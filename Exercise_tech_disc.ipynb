{
  "nbformat": 4,
  "nbformat_minor": 0,
  "metadata": {
    "colab": {
      "name": "Exercise_tech_disc.ipynb",
      "provenance": [],
      "collapsed_sections": []
    },
    "kernelspec": {
      "name": "python3",
      "display_name": "Python 3"
    },
    "language_info": {
      "name": "python"
    }
  },
  "cells": [
    {
      "cell_type": "code",
      "execution_count": null,
      "metadata": {
        "id": "9m0jfDLuB3nm"
      },
      "outputs": [],
      "source": [
        " print(\"hello world\")"
      ]
    },
    {
      "cell_type": "markdown",
      "source": [
        "\n",
        "# Título\n",
        "\n",
        "\n",
        "\n"
      ],
      "metadata": {
        "id": "fzCsmlWIC97r"
      }
    },
    {
      "cell_type": "markdown",
      "source": [
        "# Header 1\n",
        "## Header 2\n",
        "### Header 3\n",
        "\n",
        "** Negrita **\n",
        "\n",
        "> Quote"
      ],
      "metadata": {
        "id": "y8WCV5VIJRJ7"
      }
    }
  ]
}