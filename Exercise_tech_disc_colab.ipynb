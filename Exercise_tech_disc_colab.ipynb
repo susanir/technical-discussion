{
  "nbformat": 4,
  "nbformat_minor": 0,
  "metadata": {
    "colab": {
      "name": "Exercise_tech_disc_colab.ipynb",
      "provenance": [],
      "collapsed_sections": [],
      "authorship_tag": "ABX9TyNUKlQ5zrSEczPfoRli/hsd",
      "include_colab_link": true
    },
    "kernelspec": {
      "name": "python3",
      "display_name": "Python 3"
    },
    "language_info": {
      "name": "python"
    }
  },
  "cells": [
    {
      "cell_type": "markdown",
      "metadata": {
        "id": "view-in-github",
        "colab_type": "text"
      },
      "source": [
        "<a href=\"https://colab.research.google.com/github/susanir/technical-discussion/blob/main/Exercise_tech_disc_colab.ipynb\" target=\"_parent\"><img src=\"https://colab.research.google.com/assets/colab-badge.svg\" alt=\"Open In Colab\"/></a>"
      ]
    },
    {
      "cell_type": "code",
      "execution_count": null,
      "metadata": {
        "id": "9m0jfDLuB3nm"
      },
      "outputs": [],
      "source": [
        " print(\"hello world\")"
      ]
    },
    {
      "cell_type": "markdown",
      "source": [
        "\n",
        "# Título\n",
        "\n",
        "\n",
        "\n"
      ],
      "metadata": {
        "id": "fzCsmlWIC97r"
      }
    },
    {
      "cell_type": "markdown",
      "source": [
        "# Header 1\n",
        "## Header 2\n",
        "### Header 3\n",
        "\n",
        "** Negrita **\n",
        "\n",
        "> Quote"
      ],
      "metadata": {
        "id": "y8WCV5VIJRJ7"
      }
    }
  ]
}