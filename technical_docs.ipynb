{
  "nbformat": 4,
  "nbformat_minor": 0,
  "metadata": {
    "colab": {
      "name": "technical-docs.ipynb",
      "provenance": [],
      "authorship_tag": "ABX9TyO9MsoON+mk/6Ixaq2OPwx9",
      "include_colab_link": true
    },
    "kernelspec": {
      "name": "python3",
      "display_name": "Python 3"
    },
    "language_info": {
      "name": "python"
    }
  },
  "cells": [
    {
      "cell_type": "markdown",
      "metadata": {
        "id": "view-in-github",
        "colab_type": "text"
      },
      "source": [
        "<a href=\"https://colab.research.google.com/github/susanir/technical-discussion2/blob/main/technical_docs.ipynb\" target=\"_parent\"><img src=\"https://colab.research.google.com/assets/colab-badge.svg\" alt=\"Open In Colab\"/></a>"
      ]
    },
    {
      "cell_type": "markdown",
      "source": [
        "## Ingest"
      ],
      "metadata": {
        "id": "3eoTsLb5zA1E"
      }
    },
    {
      "cell_type": "code",
      "execution_count": 5,
      "metadata": {
        "id": "RQr6Sz0xrvYR"
      },
      "outputs": [],
      "source": [
        "def hello():\n",
        "  return \"hola\"\n",
        "\n",
        "  hello()"
      ]
    },
    {
      "cell_type": "markdown",
      "source": [
        "\n",
        "## EDA\n",
        "\n",
        "\n",
        "\n"
      ],
      "metadata": {
        "id": "pIK3B84u5QEb"
      }
    },
    {
      "cell_type": "code",
      "source": [
        ""
      ],
      "metadata": {
        "id": "b7p27eJs5ZnT"
      },
      "execution_count": null,
      "outputs": []
    }
  ]
}